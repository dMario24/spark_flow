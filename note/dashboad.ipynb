﻿{
  "metadata": {
    "name": "dashboad",
    "kernelspec": {
      "language": "scala",
      "name": "spark2-scala"
    },
    "language_info": {
      "codemirror_mode": "text/x-scala",
      "file_extension": ".scala",
      "mimetype": "text/x-scala",
      "name": "scala",
      "pygments_lexer": "scala"
    }
  },
  "nbformat": 4,
  "nbformat_minor": 2,
  "cells": [
    {
      "cell_type": "code",
      "execution_count": 0,
      "metadata": {
        "autoscroll": "auto"
      },
      "outputs": [],
      "source": "%spark.pyspark\n#LOAD_DT \u003d \"20150101\"\n# df1 \u003d spark.read.parquet(f\"/home/diginori/data/movie/hive/load_dt\u003d{LOAD_DT}\")\ndf1 \u003d spark.read.parquet(f\"/home/diginori/data/movie/hive\")\ndf1.createOrReplaceTempView(\"one_day\")"
    },
    {
      "cell_type": "markdown",
      "metadata": {},
      "source": "### 일자별 독립영화 매출액\n"
    },
    {
      "cell_type": "markdown",
      "metadata": {},
      "source": "### 독립영화 여부 관객수"
    },
    {
      "cell_type": "code",
      "execution_count": 3,
      "metadata": {
        "autoscroll": "auto"
      },
      "outputs": [],
      "source": "%sql\nSELECT \n    multiMovieYn, load_dt,\n    sum(salesAmt) salesAmt,\n    sum(audiCnt) audiCnt,\n    sum(showCnt) showCnt\nFROM one_day \nWHERE multiMovieYn IS NOT NULL\nGROUP BY multiMovieYn, load_dt"
    },
    {
      "cell_type": "code",
      "execution_count": 4,
      "metadata": {
        "autoscroll": "auto"
      },
      "outputs": [],
      "source": "%sql\nSELECT \n    multiMovieYn, load_dt,\n    sum(salesAmt) salesAmt,\n    sum(audiCnt) audiCnt,\n    sum(showCnt) showCnt\nFROM one_day \nWHERE multiMovieYn IS NOT NULL\nGROUP BY multiMovieYn, load_dt"
    },
    {
      "cell_type": "markdown",
      "metadata": {},
      "source": "### 국내/해외영화  관객수, 매출금액\n"
    },
    {
      "cell_type": "code",
      "execution_count": 6,
      "metadata": {
        "autoscroll": "auto"
      },
      "outputs": [],
      "source": "%sql\nSELECT \n    repNationCd, load_dt,\n    sum(salesAmt) salesAmt,\n    sum(audiCnt) audiCnt,\n    sum(showCnt) showCnt,\n    count(distinct movieCd) movie_cnt\nFROM one_day \nWHERE repNationCd IS NOT NULL\nGROUP BY repNationCd, load_dt"
    }
  ]
}